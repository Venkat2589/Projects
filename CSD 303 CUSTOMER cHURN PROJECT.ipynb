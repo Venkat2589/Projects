{
 "cells": [
  {
   "cell_type": "code",
   "execution_count": 1,
   "id": "a223f12b",
   "metadata": {},
   "outputs": [],
   "source": [
    "# 1. Importing the essential libraries\n",
    "import numpy as np\n",
    "import pandas as pd\n",
    "import seaborn as sns\n",
    "import matplotlib.ticker as mtick  \n",
    "import matplotlib.pyplot as plt\n",
    "from sklearn import metrics\n",
    "from sklearn.model_selection import train_test_split, cross_val_score, GridSearchCV\n",
    "from sklearn.metrics import recall_score, classification_report, confusion_matrix\n",
    "from imblearn.combine import SMOTEENN  # for handling imbalanced data\n",
    "from sklearn.tree import DecisionTreeClassifier\n",
    "from sklearn.ensemble import RandomForestClassifier\n",
    "from sklearn.linear_model import LogisticRegression\n",
    "from sklearn.decomposition import PCA\n",
    "\n",
    "%matplotlib inline"
   ]
  },
  {
   "cell_type": "code",
   "execution_count": 2,
   "id": "48b1f7d6",
   "metadata": {},
   "outputs": [],
   "source": [
    "# 2. Data Collection\n",
    "# Dataset: \"Customer Churn.csv\" is a public dataset sourced from a Kaggle competition on predicting customer churn.\n",
    "# Features:\n",
    "# - Numerical: MonthlyCharges, TotalCharges, tenure\n",
    "# - Categorical: gender, Partner, Dependents, PhoneService, etc.\n",
    "\n",
    "df = pd.read_csv(\"Customer Churn.csv\")\n"
   ]
  },
  {
   "cell_type": "code",
   "execution_count": 3,
   "id": "2e67119e",
   "metadata": {},
   "outputs": [
    {
     "name": "stdout",
     "output_type": "stream",
     "text": [
      "   customerID  gender  SeniorCitizen Partner Dependents  tenure PhoneService  \\\n",
      "0  7590-VHVEG  Female              0     Yes         No       1           No   \n",
      "1  5575-GNVDE    Male              0      No         No      34          Yes   \n",
      "2  3668-QPYBK    Male              0      No         No       2          Yes   \n",
      "3  7795-CFOCW    Male              0      No         No      45           No   \n",
      "4  9237-HQITU  Female              0      No         No       2          Yes   \n",
      "\n",
      "      MultipleLines InternetService OnlineSecurity  ... DeviceProtection  \\\n",
      "0  No phone service             DSL             No  ...               No   \n",
      "1                No             DSL            Yes  ...              Yes   \n",
      "2                No             DSL            Yes  ...               No   \n",
      "3  No phone service             DSL            Yes  ...              Yes   \n",
      "4                No     Fiber optic             No  ...               No   \n",
      "\n",
      "  TechSupport StreamingTV StreamingMovies        Contract PaperlessBilling  \\\n",
      "0          No          No              No  Month-to-month              Yes   \n",
      "1          No          No              No        One year               No   \n",
      "2          No          No              No  Month-to-month              Yes   \n",
      "3         Yes          No              No        One year               No   \n",
      "4          No          No              No  Month-to-month              Yes   \n",
      "\n",
      "               PaymentMethod MonthlyCharges  TotalCharges  Churn  \n",
      "0           Electronic check          29.85         29.85     No  \n",
      "1               Mailed check          56.95       1889.50     No  \n",
      "2               Mailed check          53.85        108.15    Yes  \n",
      "3  Bank transfer (automatic)          42.30       1840.75     No  \n",
      "4           Electronic check          70.70        151.65    Yes  \n",
      "\n",
      "[5 rows x 21 columns]\n",
      "(7043, 21)\n",
      "['customerID' 'gender' 'SeniorCitizen' 'Partner' 'Dependents' 'tenure'\n",
      " 'PhoneService' 'MultipleLines' 'InternetService' 'OnlineSecurity'\n",
      " 'OnlineBackup' 'DeviceProtection' 'TechSupport' 'StreamingTV'\n",
      " 'StreamingMovies' 'Contract' 'PaperlessBilling' 'PaymentMethod'\n",
      " 'MonthlyCharges' 'TotalCharges' 'Churn']\n",
      "customerID           object\n",
      "gender               object\n",
      "SeniorCitizen         int64\n",
      "Partner              object\n",
      "Dependents           object\n",
      "tenure                int64\n",
      "PhoneService         object\n",
      "MultipleLines        object\n",
      "InternetService      object\n",
      "OnlineSecurity       object\n",
      "OnlineBackup         object\n",
      "DeviceProtection     object\n",
      "TechSupport          object\n",
      "StreamingTV          object\n",
      "StreamingMovies      object\n",
      "Contract             object\n",
      "PaperlessBilling     object\n",
      "PaymentMethod        object\n",
      "MonthlyCharges      float64\n",
      "TotalCharges        float64\n",
      "Churn                object\n",
      "dtype: object\n",
      "       SeniorCitizen       tenure  MonthlyCharges  TotalCharges\n",
      "count    7043.000000  7043.000000     7043.000000   7032.000000\n",
      "mean        0.162147    32.371149       64.761692   2283.300441\n",
      "std         0.368612    24.559481       30.090047   2266.771362\n",
      "min         0.000000     0.000000       18.250000     18.800000\n",
      "25%         0.000000     9.000000       35.500000    401.450000\n",
      "50%         0.000000    29.000000       70.350000   1397.475000\n",
      "75%         0.000000    55.000000       89.850000   3794.737500\n",
      "max         1.000000    72.000000      118.750000   8684.800000\n",
      "No     73.463013\n",
      "Yes    26.536987\n",
      "Name: Churn, dtype: float64\n"
     ]
    }
   ],
   "source": [
    "# Initial exploration\n",
    "print(df.head())\n",
    "print(df.shape)\n",
    "print(df.columns.values)\n",
    "print(df.dtypes)\n",
    "print(df.describe())\n",
    "print(100 * df['Churn'].value_counts() / len(df['Churn']))\n"
   ]
  },
  {
   "cell_type": "code",
   "execution_count": 4,
   "id": "61b18837",
   "metadata": {},
   "outputs": [
    {
     "name": "stdout",
     "output_type": "stream",
     "text": [
      "<class 'pandas.core.frame.DataFrame'>\n",
      "RangeIndex: 7043 entries, 0 to 7042\n",
      "Data columns (total 21 columns):\n",
      " #   Column            Non-Null Count  Dtype  \n",
      "---  ------            --------------  -----  \n",
      " 0   customerID        7043 non-null   object \n",
      " 1   gender            7043 non-null   object \n",
      " 2   SeniorCitizen     7043 non-null   int64  \n",
      " 3   Partner           7043 non-null   object \n",
      " 4   Dependents        7043 non-null   object \n",
      " 5   tenure            7043 non-null   int64  \n",
      " 6   PhoneService      7043 non-null   object \n",
      " 7   MultipleLines     7043 non-null   object \n",
      " 8   InternetService   7043 non-null   object \n",
      " 9   OnlineSecurity    7043 non-null   object \n",
      " 10  OnlineBackup      7043 non-null   object \n",
      " 11  DeviceProtection  7043 non-null   object \n",
      " 12  TechSupport       7043 non-null   object \n",
      " 13  StreamingTV       7043 non-null   object \n",
      " 14  StreamingMovies   7043 non-null   object \n",
      " 15  Contract          7043 non-null   object \n",
      " 16  PaperlessBilling  7043 non-null   object \n",
      " 17  PaymentMethod     7043 non-null   object \n",
      " 18  MonthlyCharges    7043 non-null   float64\n",
      " 19  TotalCharges      7032 non-null   float64\n",
      " 20  Churn             7043 non-null   object \n",
      "dtypes: float64(2), int64(2), object(17)\n",
      "memory usage: 1.1+ MB\n",
      "None\n"
     ]
    }
   ],
   "source": [
    "# Checking for missing values and data types\n",
    "print(df.info(verbose=True)) "
   ]
  },
  {
   "cell_type": "code",
   "execution_count": 5,
   "id": "54624d31",
   "metadata": {},
   "outputs": [
    {
     "name": "stdout",
     "output_type": "stream",
     "text": [
      "customerID           0\n",
      "gender               0\n",
      "SeniorCitizen        0\n",
      "Partner              0\n",
      "Dependents           0\n",
      "tenure               0\n",
      "PhoneService         0\n",
      "MultipleLines        0\n",
      "InternetService      0\n",
      "OnlineSecurity       0\n",
      "OnlineBackup         0\n",
      "DeviceProtection     0\n",
      "TechSupport          0\n",
      "StreamingTV          0\n",
      "StreamingMovies      0\n",
      "Contract             0\n",
      "PaperlessBilling     0\n",
      "PaymentMethod        0\n",
      "MonthlyCharges       0\n",
      "TotalCharges        11\n",
      "Churn                0\n",
      "dtype: int64\n"
     ]
    }
   ],
   "source": [
    "# 3. Data Preprocessing\n",
    "# Converting TotalCharges to numeric and handling missing values\n",
    "df_new = df.copy()\n",
    "df_new['TotalCharges'] = pd.to_numeric(df_new['TotalCharges'], errors='coerce')\n",
    "print(df_new.isnull().sum())  # Checking for missing values\n"
   ]
  },
  {
   "cell_type": "code",
   "execution_count": 6,
   "id": "020b900a",
   "metadata": {},
   "outputs": [
    {
     "name": "stdout",
     "output_type": "stream",
     "text": [
      "(7032, 21)\n"
     ]
    }
   ],
   "source": [
    "# Dropping rows with missing values\n",
    "df_new.dropna(how='any', inplace=True)\n",
    "print(df_new.shape)\n"
   ]
  },
  {
   "cell_type": "code",
   "execution_count": 7,
   "id": "a2979062",
   "metadata": {},
   "outputs": [],
   "source": [
    "# Binning 'tenure' into groups\n",
    "labels = [\"{0} - {1}\".format(i, i + 11) for i in range(1, 72, 12)]\n",
    "df_new['tenure_group'] = pd.cut(df_new.tenure, range(1, 80, 12), right=False, labels=labels)\n"
   ]
  },
  {
   "cell_type": "code",
   "execution_count": 8,
   "id": "c3598d3c",
   "metadata": {},
   "outputs": [],
   "source": [
    "# Dropping unnecessary columns\n",
    "df_new.drop(columns=['customerID', 'tenure'], axis=1, inplace=True)"
   ]
  },
  {
   "cell_type": "code",
   "execution_count": 9,
   "id": "cff4742e",
   "metadata": {},
   "outputs": [],
   "source": [
    "# Converting the 'Churn' column into numeric\n",
    "df_new['Churn'] = np.where(df_new.Churn == 'Yes', 1, 0)"
   ]
  },
  {
   "cell_type": "code",
   "execution_count": 10,
   "id": "c8043d05",
   "metadata": {},
   "outputs": [],
   "source": [
    "# Encoding categorical variables\n",
    "df_new_dummies = pd.get_dummies(df_new)\n"
   ]
  },
  {
   "cell_type": "code",
   "execution_count": 11,
   "id": "57b8a6e7",
   "metadata": {},
   "outputs": [
    {
     "data": {
      "image/png": "[encoded data removed]",
      "text/plain": [
       "<Figure size 432x288 with 1 Axes>"
      ]
     },
     "metadata": {
      "needs_background": "light"
     },
     "output_type": "display_data"
    }
   ],
   "source": [
    "# 4. Visualizing the Data\n",
    "# KDE plots for MonthlyCharges and TotalCharges\n",
    "MC = sns.kdeplot(df_new_dummies.MonthlyCharges[(df_new_dummies[\"Churn\"] == 0)], color=\"Red\", shade=True)\n",
    "MC = sns.kdeplot(df_new_dummies.MonthlyCharges[(df_new_dummies[\"Churn\"] == 1)], ax=MC, color=\"Blue\", shade=True)\n",
    "\n",
    "TC = sns.kdeplot(df_new_dummies.TotalCharges[(df_new_dummies[\"Churn\"] == 0)], color=\"Red\", shade=True)\n",
    "TC = sns.kdeplot(df_new_dummies.TotalCharges[(df_new_dummies[\"Churn\"] == 1)], ax=TC, color=\"Blue\", shade=True)"
   ]
  },
  {
   "cell_type": "code",
   "execution_count": 12,
   "id": "9d190dab",
   "metadata": {},
   "outputs": [],
   "source": [
    "# 5. Train-test split\n",
    "x = df_new_dummies.drop('Churn', axis=1)\n",
    "y = df_new_dummies['Churn']\n",
    "x_train, x_test, y_train, y_test = train_test_split(x, y, test_size=0.2, random_state=42)"
   ]
  },
  {
   "cell_type": "code",
   "execution_count": 13,
   "id": "8bff2e6a",
   "metadata": {},
   "outputs": [],
   "source": [
    "# 6. Model Building and Cross-Validation\n",
    "# Decision Tree with Cross-Validation and Hyperparameter Tuning\n",
    "dtmodel = DecisionTreeClassifier(random_state=50)\n",
    "param_grid = {'criterion': ['gini', 'entropy'], 'max_depth': [None, 10, 20, 30]}\n",
    "grid_dt = GridSearchCV(dtmodel, param_grid, cv=5, scoring='accuracy')\n",
    "grid_dt.fit(x_train, y_train)\n",
    "\n",
    "dt_best_model = grid_dt.best_estimator_\n",
    "dt_pred = dt_best_model.predict(x_test)"
   ]
  },
  {
   "cell_type": "code",
   "execution_count": 14,
   "id": "a3ea447a",
   "metadata": {},
   "outputs": [
    {
     "name": "stdout",
     "output_type": "stream",
     "text": [
      "Best Parameters for Decision Tree: {'criterion': 'entropy', 'max_depth': 10}\n",
      "              precision    recall  f1-score   support\n",
      "\n",
      "           0       0.81      0.85      0.83      1033\n",
      "           1       0.53      0.46      0.49       374\n",
      "\n",
      "    accuracy                           0.75      1407\n",
      "   macro avg       0.67      0.66      0.66      1407\n",
      "weighted avg       0.74      0.75      0.74      1407\n",
      "\n",
      "Decision Tree Accuracy: 74.91\n"
     ]
    }
   ],
   "source": [
    "# Evaluation of Decision Tree\n",
    "print(\"Best Parameters for Decision Tree:\", grid_dt.best_params_)\n",
    "print(metrics.classification_report(y_test, dt_pred))\n",
    "dt_accuracy = round(metrics.accuracy_score(y_test, dt_pred) * 100, 2)\n",
    "print(\"Decision Tree Accuracy:\", dt_accuracy)"
   ]
  },
  {
   "cell_type": "code",
   "execution_count": 15,
   "id": "1519a288",
   "metadata": {},
   "outputs": [],
   "source": [
    "# Feature Engineering: PCA for dimensionality reduction\n",
    "pca = PCA(n_components=10)\n",
    "x_train_pca = pca.fit_transform(x_train)\n",
    "x_test_pca = pca.transform(x_test)\n"
   ]
  },
  {
   "cell_type": "code",
   "execution_count": 16,
   "id": "6bc0bfad",
   "metadata": {},
   "outputs": [],
   "source": [
    "# Random Forest with Hyperparameter Tuning\n",
    "rfmodel = RandomForestClassifier(random_state=0)\n",
    "param_grid_rf = {'n_estimators': [50, 100, 200], 'criterion': ['gini', 'entropy'], 'max_depth': [None, 10, 20]}\n",
    "grid_rf = GridSearchCV(rfmodel, param_grid_rf, cv=5, scoring='accuracy')\n",
    "grid_rf.fit(x_train_pca, y_train)\n",
    "\n",
    "rf_best_model = grid_rf.best_estimator_\n",
    "rf_pred = rf_best_model.predict(x_test_pca)"
   ]
  },
  {
   "cell_type": "code",
   "execution_count": 17,
   "id": "2b0e87fc",
   "metadata": {},
   "outputs": [
    {
     "name": "stdout",
     "output_type": "stream",
     "text": [
      "Best Parameters for Random Forest: {'criterion': 'gini', 'max_depth': 10, 'n_estimators': 100}\n",
      "              precision    recall  f1-score   support\n",
      "\n",
      "           0       0.82      0.91      0.87      1033\n",
      "           1       0.65      0.47      0.54       374\n",
      "\n",
      "    accuracy                           0.79      1407\n",
      "   macro avg       0.74      0.69      0.70      1407\n",
      "weighted avg       0.78      0.79      0.78      1407\n",
      "\n",
      "Random Forest Accuracy: 79.18\n"
     ]
    }
   ],
   "source": [
    "# Evaluation of Random Forest\n",
    "print(\"Best Parameters for Random Forest:\", grid_rf.best_params_)\n",
    "print(metrics.classification_report(y_test, rf_pred))\n",
    "rf_accuracy = round(metrics.accuracy_score(y_test, rf_pred) * 100, 2)\n",
    "print(\"Random Forest Accuracy:\", rf_accuracy)"
   ]
  },
  {
   "cell_type": "code",
   "execution_count": 18,
   "id": "01f5b67a",
   "metadata": {},
   "outputs": [
    {
     "name": "stdout",
     "output_type": "stream",
     "text": [
      "              precision    recall  f1-score   support\n",
      "\n",
      "           0       0.83      0.90      0.86      1033\n",
      "           1       0.63      0.48      0.55       374\n",
      "\n",
      "    accuracy                           0.79      1407\n",
      "   macro avg       0.73      0.69      0.71      1407\n",
      "weighted avg       0.78      0.79      0.78      1407\n",
      "\n",
      "Logistic Regression Accuracy: 78.82\n"
     ]
    }
   ],
   "source": [
    "# Logistic Regression with Cross-Validation\n",
    "logmodel = LogisticRegression(random_state=50, max_iter=500)\n",
    "logmodel.fit(x_train_pca, y_train)\n",
    "\n",
    "log_pred = logmodel.predict(x_test_pca)\n",
    "log_accuracy = round(metrics.accuracy_score(y_test, log_pred) * 100, 2)\n",
    "print(metrics.classification_report(y_test, log_pred))\n",
    "print(\"Logistic Regression Accuracy:\", log_accuracy)"
   ]
  },
  {
   "cell_type": "code",
   "execution_count": 19,
   "id": "520dde43",
   "metadata": {},
   "outputs": [
    {
     "name": "stderr",
     "output_type": "stream",
     "text": [
      "C:\\Users\\prase\\anaconda3\\lib\\site-packages\\sklearn\\linear_model\\_logistic.py:814: ConvergenceWarning: lbfgs failed to converge (status=1):\n",
      "STOP: TOTAL NO. of ITERATIONS REACHED LIMIT.\n",
      "\n",
      "Increase the number of iterations (max_iter) or scale the data as shown in:\n",
      "    https://scikit-learn.org/stable/modules/preprocessing.html\n",
      "Please also refer to the documentation for alternative solver options:\n",
      "    https://scikit-learn.org/stable/modules/linear_model.html#logistic-regression\n",
      "  n_iter_i = _check_optimize_result(\n"
     ]
    }
   ],
   "source": [
    "# 7. SMOTEENN with Decision Tree and Random Forest\n",
    "sm = SMOTEENN()\n",
    "x_new, y_new = sm.fit_resample(x, y)\n",
    "xr_train, xr_test, yr_train, yr_test = train_test_split(x_new, y_new, test_size=0.2, random_state=42)\n",
    "\n",
    "# Decision Tree with SMOTEENN\n",
    "dtmodel_smote = DecisionTreeClassifier(random_state=50)\n",
    "dtmodel_smote.fit(xr_train, yr_train)\n",
    "dt_pred_smote = dtmodel_smote.predict(xr_test)\n",
    "dt_accuracy_smote = (dtmodel_smote.score(xr_test, yr_test)) * 100\n",
    "\n",
    "# Random Forest with SMOTEENN\n",
    "rfmodel_smote = RandomForestClassifier(n_estimators=100, random_state=0)\n",
    "rfmodel_smote.fit(xr_train, yr_train)\n",
    "rf_pred_smote = rfmodel_smote.predict(xr_test)\n",
    "rf_accuracy_smote = (rfmodel_smote.score(xr_test, yr_test)) * 100\n",
    "\n",
    "# Logistic Regression with SMOTEENN\n",
    "logmodel_smote = LogisticRegression(random_state=50)\n",
    "logmodel_smote.fit(xr_train, yr_train)\n",
    "log_pred_smote = logmodel_smote.predict(xr_test)\n",
    "log_accuracy_smote = (logmodel_smote.score(xr_test, yr_test)) * 100"
   ]
  },
  {
   "cell_type": "code",
   "execution_count": 20,
   "id": "1b878612",
   "metadata": {},
   "outputs": [
    {
     "name": "stdout",
     "output_type": "stream",
     "text": [
      "Decision Tree Confusion Matrix:\n",
      "[[882 151]\n",
      " [202 172]]\n",
      "Random Forest Confusion Matrix:\n",
      "[[940  93]\n",
      " [200 174]]\n"
     ]
    }
   ],
   "source": [
    "# 8. Error Analysis: Confusion Matrices\n",
    "print(\"Decision Tree Confusion Matrix:\")\n",
    "print(confusion_matrix(y_test, dt_pred))\n",
    "print(\"Random Forest Confusion Matrix:\")\n",
    "print(confusion_matrix(y_test, rf_pred))\n"
   ]
  },
  {
   "cell_type": "code",
   "execution_count": 21,
   "id": "be386c20",
   "metadata": {},
   "outputs": [
    {
     "name": "stdout",
     "output_type": "stream",
     "text": [
      "                               Model      Score\n",
      "5        Random Forest with SMOTEENN  95.311168\n",
      "1  Logistic Regression with SMOTEENN  93.265132\n",
      "3        Decision Tree with SMOTEENN  93.009378\n",
      "4                      Random Forest  79.180000\n",
      "0                Logistic Regression  78.820000\n",
      "2                      Decision Tree  74.910000\n"
     ]
    }
   ],
   "source": [
    "# 9. Model Comparison\n",
    "Model_Comparison = pd.DataFrame({\n",
    "    'Model': ['Logistic Regression', 'Logistic Regression with SMOTEENN', 'Decision Tree', 'Decision Tree with SMOTEENN', 'Random Forest', 'Random Forest with SMOTEENN'],\n",
    "    'Score': [log_accuracy, log_accuracy_smote, dt_accuracy, dt_accuracy_smote, rf_accuracy, rf_accuracy_smote]})\n",
    "\n",
    "Model_Comparison_df = Model_Comparison.sort_values(by='Score', ascending=False)\n",
    "print(Model_Comparison_df)"
   ]
  },
  {
   "cell_type": "code",
   "execution_count": 22,
   "id": "873e26d5",
   "metadata": {},
   "outputs": [
    {
     "data": {
      "image/png": "[encoded data removed]",
      "text/plain": [
       "<Figure size 720x432 with 1 Axes>"
      ]
     },
     "metadata": {
      "needs_background": "light"
     },
     "output_type": "display_data"
    }
   ],
   "source": [
    "# 10. Visualization of Model Comparison\n",
    "plt.figure(figsize=(10, 6))\n",
    "sns.barplot(x='Model', y='Score', data=Model_Comparison_df)\n",
    "plt.title(\"Model Comparison by Accuracy\")\n",
    "plt.xticks(rotation=45)\n",
    "plt.show()\n"
   ]
  }
 ],
 "metadata": {
  "kernelspec": {
   "display_name": "Python 3 (ipykernel)",
   "language": "python",
   "name": "python3"
  },
  "language_info": {
   "codemirror_mode": {
    "name": "ipython",
    "version": 3
   },
   "file_extension": ".py",
   "mimetype": "text/x-python",
   "name": "python",
   "nbconvert_exporter": "python",
   "pygments_lexer": "ipython3",
   "version": "3.9.12"
  }
 },
 "nbformat": 4,
 "nbformat_minor": 5
}
